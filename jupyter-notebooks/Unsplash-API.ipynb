{
 "cells": [
  {
   "cell_type": "code",
   "execution_count": 1,
   "metadata": {},
   "outputs": [],
   "source": [
    "import requests"
   ]
  },
  {
   "cell_type": "code",
   "execution_count": 6,
   "metadata": {},
   "outputs": [],
   "source": [
    "import sys\n",
    "sys.path.append('../')\n",
    "from keys import UNSPLASH_ACCESS_KEY\n",
    "access_key = UNSPLASH_ACCESS_KEY"
   ]
  },
  {
   "cell_type": "code",
   "execution_count": 7,
   "metadata": {},
   "outputs": [],
   "source": [
    "api_url = 'https://api.unsplash.com'"
   ]
  },
  {
   "cell_type": "code",
   "execution_count": 9,
   "metadata": {},
   "outputs": [
    {
     "data": {
      "text/plain": [
       "<Response [200]>"
      ]
     },
     "execution_count": 9,
     "metadata": {},
     "output_type": "execute_result"
    }
   ],
   "source": [
    "result = requests.get(api_url + '/photos/random/?client_id=%s&query=nature' % access_key)\n",
    "result"
   ]
  },
  {
   "cell_type": "code",
   "execution_count": 10,
   "metadata": {},
   "outputs": [
    {
     "data": {
      "text/plain": [
       "{'id': 'Y-xZvm738I8',\n",
       " 'created_at': '2019-03-04T12:13:37-05:00',\n",
       " 'updated_at': '2019-05-17T19:50:59-04:00',\n",
       " 'width': 4732,\n",
       " 'height': 1437,\n",
       " 'color': '#CACBCC',\n",
       " 'description': 'What this tree has endured.',\n",
       " 'alt_description': None,\n",
       " 'urls': {'raw': 'https://images.unsplash.com/photo-1551719607-b4648062e644?ixlib=rb-1.2.1&ixid=eyJhcHBfaWQiOjc5NTA5fQ',\n",
       "  'full': 'https://images.unsplash.com/photo-1551719607-b4648062e644?ixlib=rb-1.2.1&q=85&fm=jpg&crop=entropy&cs=srgb&ixid=eyJhcHBfaWQiOjc5NTA5fQ',\n",
       "  'regular': 'https://images.unsplash.com/photo-1551719607-b4648062e644?ixlib=rb-1.2.1&q=80&fm=jpg&crop=entropy&cs=tinysrgb&w=1080&fit=max&ixid=eyJhcHBfaWQiOjc5NTA5fQ',\n",
       "  'small': 'https://images.unsplash.com/photo-1551719607-b4648062e644?ixlib=rb-1.2.1&q=80&fm=jpg&crop=entropy&cs=tinysrgb&w=400&fit=max&ixid=eyJhcHBfaWQiOjc5NTA5fQ',\n",
       "  'thumb': 'https://images.unsplash.com/photo-1551719607-b4648062e644?ixlib=rb-1.2.1&q=80&fm=jpg&crop=entropy&cs=tinysrgb&w=200&fit=max&ixid=eyJhcHBfaWQiOjc5NTA5fQ'},\n",
       " 'links': {'self': 'https://api.unsplash.com/photos/Y-xZvm738I8',\n",
       "  'html': 'https://unsplash.com/photos/Y-xZvm738I8',\n",
       "  'download': 'https://unsplash.com/photos/Y-xZvm738I8/download',\n",
       "  'download_location': 'https://api.unsplash.com/photos/Y-xZvm738I8/download'},\n",
       " 'categories': [],\n",
       " 'sponsored': False,\n",
       " 'sponsored_by': None,\n",
       " 'sponsored_impressions_id': None,\n",
       " 'likes': 1,\n",
       " 'liked_by_user': False,\n",
       " 'current_user_collections': [],\n",
       " 'user': {'id': 'gNVC9m8F4mM',\n",
       "  'updated_at': '2019-06-23T15:57:37-04:00',\n",
       "  'username': 'hatham',\n",
       "  'name': 'Hatham Al-Shabibi',\n",
       "  'first_name': 'Hatham',\n",
       "  'last_name': 'Al-Shabibi',\n",
       "  'twitter_username': 'heyhatham',\n",
       "  'portfolio_url': None,\n",
       "  'bio': None,\n",
       "  'location': 'Oregon, USA',\n",
       "  'links': {'self': 'https://api.unsplash.com/users/hatham',\n",
       "   'html': 'https://unsplash.com/@hatham',\n",
       "   'photos': 'https://api.unsplash.com/users/hatham/photos',\n",
       "   'likes': 'https://api.unsplash.com/users/hatham/likes',\n",
       "   'portfolio': 'https://api.unsplash.com/users/hatham/portfolio',\n",
       "   'following': 'https://api.unsplash.com/users/hatham/following',\n",
       "   'followers': 'https://api.unsplash.com/users/hatham/followers'},\n",
       "  'profile_image': {'small': 'https://images.unsplash.com/profile-1558034833539-1cbb122439e1?ixlib=rb-1.2.1&q=80&fm=jpg&crop=faces&cs=tinysrgb&fit=crop&h=32&w=32',\n",
       "   'medium': 'https://images.unsplash.com/profile-1558034833539-1cbb122439e1?ixlib=rb-1.2.1&q=80&fm=jpg&crop=faces&cs=tinysrgb&fit=crop&h=64&w=64',\n",
       "   'large': 'https://images.unsplash.com/profile-1558034833539-1cbb122439e1?ixlib=rb-1.2.1&q=80&fm=jpg&crop=faces&cs=tinysrgb&fit=crop&h=128&w=128'},\n",
       "  'instagram_username': 'hatham.a',\n",
       "  'total_collections': 4,\n",
       "  'total_likes': 94,\n",
       "  'total_photos': 49,\n",
       "  'accepted_tos': True},\n",
       " 'exif': {'make': None,\n",
       "  'model': None,\n",
       "  'exposure_time': None,\n",
       "  'aperture': None,\n",
       "  'focal_length': None,\n",
       "  'iso': None},\n",
       " 'location': {'title': 'Six Rivers National Forest',\n",
       "  'name': 'Six Rivers National Forest, California',\n",
       "  'city': None,\n",
       "  'country': None,\n",
       "  'position': {'latitude': None, 'longitude': None}},\n",
       " 'views': 19971,\n",
       " 'downloads': 87}"
      ]
     },
     "execution_count": 10,
     "metadata": {},
     "output_type": "execute_result"
    }
   ],
   "source": [
    "result.json()"
   ]
  },
  {
   "cell_type": "code",
   "execution_count": 29,
   "metadata": {},
   "outputs": [
    {
     "data": {
      "text/plain": [
       "'Y-xZvm738I8'"
      ]
     },
     "execution_count": 29,
     "metadata": {},
     "output_type": "execute_result"
    }
   ],
   "source": [
    "result.json()['id']"
   ]
  },
  {
   "cell_type": "code",
   "execution_count": 11,
   "metadata": {},
   "outputs": [
    {
     "data": {
      "text/plain": [
       "'https://images.unsplash.com/photo-1551719607-b4648062e644?ixlib=rb-1.2.1&q=80&fm=jpg&crop=entropy&cs=tinysrgb&w=1080&fit=max&ixid=eyJhcHBfaWQiOjc5NTA5fQ'"
      ]
     },
     "execution_count": 11,
     "metadata": {},
     "output_type": "execute_result"
    }
   ],
   "source": [
    "result.json()['urls']['regular']"
   ]
  },
  {
   "cell_type": "code",
   "execution_count": 28,
   "metadata": {},
   "outputs": [
    {
     "data": {
      "text/plain": [
       "4732"
      ]
     },
     "execution_count": 28,
     "metadata": {},
     "output_type": "execute_result"
    }
   ],
   "source": [
    "result.json()['width']"
   ]
  },
  {
   "cell_type": "code",
   "execution_count": 12,
   "metadata": {},
   "outputs": [
    {
     "data": {
      "text/plain": [
       "{'id': 'gNVC9m8F4mM',\n",
       " 'updated_at': '2019-06-23T15:57:37-04:00',\n",
       " 'username': 'hatham',\n",
       " 'name': 'Hatham Al-Shabibi',\n",
       " 'first_name': 'Hatham',\n",
       " 'last_name': 'Al-Shabibi',\n",
       " 'twitter_username': 'heyhatham',\n",
       " 'portfolio_url': None,\n",
       " 'bio': None,\n",
       " 'location': 'Oregon, USA',\n",
       " 'links': {'self': 'https://api.unsplash.com/users/hatham',\n",
       "  'html': 'https://unsplash.com/@hatham',\n",
       "  'photos': 'https://api.unsplash.com/users/hatham/photos',\n",
       "  'likes': 'https://api.unsplash.com/users/hatham/likes',\n",
       "  'portfolio': 'https://api.unsplash.com/users/hatham/portfolio',\n",
       "  'following': 'https://api.unsplash.com/users/hatham/following',\n",
       "  'followers': 'https://api.unsplash.com/users/hatham/followers'},\n",
       " 'profile_image': {'small': 'https://images.unsplash.com/profile-1558034833539-1cbb122439e1?ixlib=rb-1.2.1&q=80&fm=jpg&crop=faces&cs=tinysrgb&fit=crop&h=32&w=32',\n",
       "  'medium': 'https://images.unsplash.com/profile-1558034833539-1cbb122439e1?ixlib=rb-1.2.1&q=80&fm=jpg&crop=faces&cs=tinysrgb&fit=crop&h=64&w=64',\n",
       "  'large': 'https://images.unsplash.com/profile-1558034833539-1cbb122439e1?ixlib=rb-1.2.1&q=80&fm=jpg&crop=faces&cs=tinysrgb&fit=crop&h=128&w=128'},\n",
       " 'instagram_username': 'hatham.a',\n",
       " 'total_collections': 4,\n",
       " 'total_likes': 94,\n",
       " 'total_photos': 49,\n",
       " 'accepted_tos': True}"
      ]
     },
     "execution_count": 12,
     "metadata": {},
     "output_type": "execute_result"
    }
   ],
   "source": [
    "result.json()['user']"
   ]
  },
  {
   "cell_type": "code",
   "execution_count": 34,
   "metadata": {},
   "outputs": [
    {
     "data": {
      "text/plain": [
       "'heyhatham'"
      ]
     },
     "execution_count": 34,
     "metadata": {},
     "output_type": "execute_result"
    }
   ],
   "source": [
    "result.json()['user']['twitter_username']"
   ]
  },
  {
   "cell_type": "code",
   "execution_count": 14,
   "metadata": {},
   "outputs": [
    {
     "data": {
      "text/plain": [
       "'Hatham Al-Shabibi'"
      ]
     },
     "execution_count": 14,
     "metadata": {},
     "output_type": "execute_result"
    }
   ],
   "source": [
    "result.json()['user']['name']"
   ]
  },
  {
   "cell_type": "code",
   "execution_count": 16,
   "metadata": {},
   "outputs": [
    {
     "data": {
      "text/plain": [
       "'https://unsplash.com/@hatham'"
      ]
     },
     "execution_count": 16,
     "metadata": {},
     "output_type": "execute_result"
    }
   ],
   "source": [
    "result.json()['user']['links']['html']"
   ]
  },
  {
   "cell_type": "code",
   "execution_count": 21,
   "metadata": {},
   "outputs": [
    {
     "data": {
      "text/plain": [
       "'Image: Hatham Al-Shabibi (https://unsplash.com/@hatham?utm_source=MotivateMeBot&utm_medium=referral) via Unsplash (https://unsplash.com/?utm_source=your_app_name&utm_medium=referral)'"
      ]
     },
     "execution_count": 21,
     "metadata": {},
     "output_type": "execute_result"
    }
   ],
   "source": [
    "text = 'Image: {0} ({1}?utm_source=MotivateMeBot&utm_medium=referral) via Unsplash (https://unsplash.com/?utm_source=your_app_name&utm_medium=referral)'.format(result.json()['user']['name'], result.json()['user']['links']['html'])\n",
    "text"
   ]
  },
  {
   "cell_type": "code",
   "execution_count": 13,
   "metadata": {},
   "outputs": [
    {
     "data": {
      "text/plain": [
       "<urllib3.response.HTTPResponse at 0x10d0d3eb8>"
      ]
     },
     "execution_count": 13,
     "metadata": {},
     "output_type": "execute_result"
    }
   ],
   "source": [
    "result.raw"
   ]
  },
  {
   "cell_type": "code",
   "execution_count": 25,
   "metadata": {},
   "outputs": [],
   "source": [
    "import shutil"
   ]
  },
  {
   "cell_type": "code",
   "execution_count": 14,
   "metadata": {},
   "outputs": [],
   "source": [
    "r = requests.get(api_url + '/photos/random/?client_id=%s&query=nature' % access_key, stream=True)\n",
    "if r.status_code == 200:\n",
    "    with open('test.png', 'wb') as f:\n",
    "        r.raw.decode_content = True\n",
    "        shutil.copyfileobj(r.raw, f) "
   ]
  },
  {
   "cell_type": "code",
   "execution_count": 22,
   "metadata": {},
   "outputs": [],
   "source": [
    "r = requests.get('https://images.unsplash.com/photo-1558439749-9a532bd2909f?ixlib=rb-1.2.1&q=80&fm=jpg&crop=entropy&cs=tinysrgb&w=1080&fit=max&ixid=eyJhcHBfaWQiOjc5NTA5fQ?client_id=%s' % access_key, stream=True)"
   ]
  },
  {
   "cell_type": "code",
   "execution_count": 23,
   "metadata": {},
   "outputs": [
    {
     "data": {
      "text/plain": [
       "<Response [200]>"
      ]
     },
     "execution_count": 23,
     "metadata": {},
     "output_type": "execute_result"
    }
   ],
   "source": [
    "r"
   ]
  },
  {
   "cell_type": "code",
   "execution_count": 26,
   "metadata": {},
   "outputs": [],
   "source": [
    "if r.status_code == 200:\n",
    "    with open('test.jpg', 'wb') as f:\n",
    "        shutil.copyfileobj(r.raw, f) "
   ]
  },
  {
   "cell_type": "code",
   "execution_count": null,
   "metadata": {},
   "outputs": [],
   "source": [
    "r.text"
   ]
  },
  {
   "cell_type": "code",
   "execution_count": null,
   "metadata": {},
   "outputs": [],
   "source": [
    "import urllib.request \n",
    "\n",
    "urllib.request.urlretrieve(url, filename)"
   ]
  },
  {
   "cell_type": "code",
   "execution_count": null,
   "metadata": {},
   "outputs": [],
   "source": []
  },
  {
   "cell_type": "code",
   "execution_count": 4,
   "metadata": {},
   "outputs": [
    {
     "name": "stdout",
     "output_type": "stream",
     "text": [
      "no\n"
     ]
    }
   ],
   "source": [
    "x = ''\n",
    "\n",
    "if x is not None and x != '':\n",
    "    print('hi')\n",
    "else:\n",
    "    print('no')"
   ]
  },
  {
   "cell_type": "code",
   "execution_count": 14,
   "metadata": {},
   "outputs": [],
   "source": [
    "import requests\n",
    "import shutil\n",
    "query='nature'\n",
    "result = requests.get(api_url + '/photos/random/?client_id=%s&query=%s&orientation=%s' % (access_key, query, 'landscape'))\n",
    "image_url = result.json()['urls']['regular']\n",
    "\n",
    "response = requests.get(image_url, stream=True)\n",
    "with open('test.jpg', 'wb') as outfile:\n",
    "    shutil.copyfileobj(response.raw, outfile)"
   ]
  },
  {
   "cell_type": "code",
   "execution_count": 16,
   "metadata": {},
   "outputs": [
    {
     "data": {
      "text/plain": [
       "{'id': 'A_cn3uktIaA',\n",
       " 'created_at': '2019-04-20T18:59:37-04:00',\n",
       " 'updated_at': '2019-06-07T01:12:48-04:00',\n",
       " 'width': 6000,\n",
       " 'height': 4000,\n",
       " 'color': '#E9F0F4',\n",
       " 'description': None,\n",
       " 'alt_description': 'islet view on calm sea',\n",
       " 'urls': {'raw': 'https://images.unsplash.com/photo-1555800648-051347a3dc38?ixlib=rb-1.2.1&ixid=eyJhcHBfaWQiOjc5NTA5fQ',\n",
       "  'full': 'https://images.unsplash.com/photo-1555800648-051347a3dc38?ixlib=rb-1.2.1&q=85&fm=jpg&crop=entropy&cs=srgb&ixid=eyJhcHBfaWQiOjc5NTA5fQ',\n",
       "  'regular': 'https://images.unsplash.com/photo-1555800648-051347a3dc38?ixlib=rb-1.2.1&q=80&fm=jpg&crop=entropy&cs=tinysrgb&w=1080&fit=max&ixid=eyJhcHBfaWQiOjc5NTA5fQ',\n",
       "  'small': 'https://images.unsplash.com/photo-1555800648-051347a3dc38?ixlib=rb-1.2.1&q=80&fm=jpg&crop=entropy&cs=tinysrgb&w=400&fit=max&ixid=eyJhcHBfaWQiOjc5NTA5fQ',\n",
       "  'thumb': 'https://images.unsplash.com/photo-1555800648-051347a3dc38?ixlib=rb-1.2.1&q=80&fm=jpg&crop=entropy&cs=tinysrgb&w=200&fit=max&ixid=eyJhcHBfaWQiOjc5NTA5fQ'},\n",
       " 'links': {'self': 'https://api.unsplash.com/photos/A_cn3uktIaA',\n",
       "  'html': 'https://unsplash.com/photos/A_cn3uktIaA',\n",
       "  'download': 'https://unsplash.com/photos/A_cn3uktIaA/download',\n",
       "  'download_location': 'https://api.unsplash.com/photos/A_cn3uktIaA/download'},\n",
       " 'categories': [],\n",
       " 'sponsored': False,\n",
       " 'sponsored_by': None,\n",
       " 'sponsored_impressions_id': None,\n",
       " 'likes': 2,\n",
       " 'liked_by_user': False,\n",
       " 'current_user_collections': [],\n",
       " 'user': {'id': 'aYbZuaM1q5M',\n",
       "  'updated_at': '2019-06-23T18:17:46-04:00',\n",
       "  'username': 'alexpaganelli',\n",
       "  'name': 'Alex Paganelli',\n",
       "  'first_name': 'Alex',\n",
       "  'last_name': 'Paganelli',\n",
       "  'twitter_username': 'Alex_paganelli',\n",
       "  'portfolio_url': 'https://linktr.ee/alexpaganelli',\n",
       "  'bio': 'Italian photographer and graphic designer based in Lisbon (Portugal).\\r\\nFree for personal use / Editorial and Commercial please give credit. ',\n",
       "  'location': 'Lisbon',\n",
       "  'links': {'self': 'https://api.unsplash.com/users/alexpaganelli',\n",
       "   'html': 'https://unsplash.com/@alexpaganelli',\n",
       "   'photos': 'https://api.unsplash.com/users/alexpaganelli/photos',\n",
       "   'likes': 'https://api.unsplash.com/users/alexpaganelli/likes',\n",
       "   'portfolio': 'https://api.unsplash.com/users/alexpaganelli/portfolio',\n",
       "   'following': 'https://api.unsplash.com/users/alexpaganelli/following',\n",
       "   'followers': 'https://api.unsplash.com/users/alexpaganelli/followers'},\n",
       "  'profile_image': {'small': 'https://images.unsplash.com/profile-1545488528595-d9492384e047?ixlib=rb-1.2.1&q=80&fm=jpg&crop=faces&cs=tinysrgb&fit=crop&h=32&w=32',\n",
       "   'medium': 'https://images.unsplash.com/profile-1545488528595-d9492384e047?ixlib=rb-1.2.1&q=80&fm=jpg&crop=faces&cs=tinysrgb&fit=crop&h=64&w=64',\n",
       "   'large': 'https://images.unsplash.com/profile-1545488528595-d9492384e047?ixlib=rb-1.2.1&q=80&fm=jpg&crop=faces&cs=tinysrgb&fit=crop&h=128&w=128'},\n",
       "  'instagram_username': 'alex.paganelli',\n",
       "  'total_collections': 2,\n",
       "  'total_likes': 43,\n",
       "  'total_photos': 14,\n",
       "  'accepted_tos': True},\n",
       " 'exif': {'make': 'FUJIFILM',\n",
       "  'model': 'X-Pro2',\n",
       "  'exposure_time': '1/600',\n",
       "  'aperture': '5.6',\n",
       "  'focal_length': '23.0',\n",
       "  'iso': 1000},\n",
       " 'location': {'title': 'São Vicente, Cape Verde',\n",
       "  'name': None,\n",
       "  'city': 'São Vicente',\n",
       "  'country': 'Cape Verde',\n",
       "  'position': {'latitude': None, 'longitude': None}},\n",
       " 'views': 74795,\n",
       " 'downloads': 204}"
      ]
     },
     "execution_count": 16,
     "metadata": {},
     "output_type": "execute_result"
    }
   ],
   "source": [
    "result.json()"
   ]
  },
  {
   "cell_type": "code",
   "execution_count": 1,
   "metadata": {},
   "outputs": [],
   "source": [
    "%load_ext autoreload\n",
    "%autoreload 2\n",
    "\n",
    "import sys\n",
    "import os\n",
    "sys.path.append('../')\n",
    "\n",
    "from motivatemebot import filter_quote"
   ]
  },
  {
   "cell_type": "code",
   "execution_count": 2,
   "metadata": {},
   "outputs": [
    {
     "name": "stdout",
     "output_type": "stream",
     "text": [
      "--------------------\n",
      "this is a test,of the punctuation,and what will it do?when i type badly.and,this,is,a,string.of,punc!tua?ion\n",
      "['this', 'is', 'a', 'test,of', 'the', 'punctuation,and', 'what', 'will', 'it', 'do?when', 'i', 'type', 'badly.and,this,is,a,string.of,punc!tua?ion']\n",
      "['this', 'is', 'a', 'test,', 'of', 'the', 'punctuation,', 'and', 'what', 'will', 'it', 'do?', 'when', 'i', 'type', 'badly.', 'and,', 'this,', 'is,', 'a,', 'string.', 'of,', 'punc!', 'tua?', 'ion']\n",
      "['this', 'is', 'a', 'test,', 'of', 'the', 'punctuation,', 'and', 'what', 'will', 'it', 'do?', 'when', 'i', 'type', 'badly.', 'and,', 'this,', 'is,', 'a,', 'string.', 'of,', 'punc!', 'tua?', 'ion']\n",
      "['This', 'is', 'a', 'test,', 'of', 'the', 'punctuation,', 'and', 'what', 'will', 'it', 'do?', 'when', 'i', 'type', 'badly.', 'and,', 'this,', 'is,', 'a,', 'string.', 'of,', 'punc!', 'tua?', 'ion.']\n",
      "This is a test, of the punctuation, and what will it do? when i type badly. and, this, is, a, string. of, punc! tua? ion.\n",
      "--------------------\n"
     ]
    },
    {
     "data": {
      "text/plain": [
       "'This is a test, of the punctuation, and what will it do? when i type badly. and, this, is, a, string. of, punc! tua? ion.'"
      ]
     },
     "execution_count": 2,
     "metadata": {},
     "output_type": "execute_result"
    }
   ],
   "source": [
    "filter_quote('this is a test,of the punctuation,and what will it do?when i type badly.and,this,is,a,string.of,punc!tua?ion',\n",
    "            verbose=True)"
   ]
  },
  {
   "cell_type": "code",
   "execution_count": 9,
   "metadata": {},
   "outputs": [],
   "source": [
    "text = '“Do not be too timid and squeamish about your actions. All life is an experiment.” - Ralph Waldo Emerson #WednesdayWisdom #wednesdaymotivation #work #Leadership #quote #quoteoftheday #success #inspiration #business #quotes #motivation #MotivationalQuotes #management https://t.co/rn9GcCbrx3'"
   ]
  },
  {
   "cell_type": "code",
   "execution_count": 25,
   "metadata": {},
   "outputs": [],
   "source": [
    "text = \"Do what you have to do until you can do what you want to do.\\n― Oprah Winfrey\\n\\n#captions #quote #quotesoftheday #Inspiration #motivation #แคปชั่น #แคปชั่นภาษาอังกฤษ #คําคมภาษาอังกฤษ #คำคม #คำคมชีวิต #ความรู้สึก #คําคมโดนใจ\""
   ]
  },
  {
   "cell_type": "code",
   "execution_count": 26,
   "metadata": {},
   "outputs": [
    {
     "name": "stdout",
     "output_type": "stream",
     "text": [
      "--------------------\n",
      "Do what you have to do until you can do what you want to do.\n",
      "― Oprah Winfrey\n",
      "\n",
      "#captions #quote #quotesoftheday #Inspiration #motivation #แคปชั่น #แคปชั่นภาษาอังกฤษ #คําคมภาษาอังกฤษ #คำคม #คำคมชีวิต #ความรู้สึก #คําคมโดนใจ\n",
      "['Do', 'what', 'you', 'have', 'to', 'do', 'until', 'you', 'can', 'do', 'what', 'you', 'want', 'to', 'do.\\n', '―', 'Oprah', 'Winfrey\\n', '#captions', '#quote', '#quotesoftheday', '#Inspiration', '#motivation', '#แคปชั่น', '#แคปชั่นภาษาอังกฤษ', '#คําคมภาษาอังกฤษ', '#คำคม', '#คำคมชีวิต', '#ความรู้สึก', '#คําคมโดนใจ']\n",
      "['Do', 'what', 'you', 'have', 'to', 'do', 'until', 'you', 'can', 'do', 'what', 'you', 'want', 'to', 'do.\\n', '―', 'Oprah', 'Winfrey\\n', '#captions', '#quote', '#quotesoftheday', '#Inspiration', '#motivation', '#แคปชั่น', '#แคปชั่นภาษาอังกฤษ', '#คําคมภาษาอังกฤษ', '#คำคม', '#คำคมชีวิต', '#ความรู้สึก', '#คําคมโดนใจ']\n",
      "['Do', 'what', 'you', 'have', 'to', 'do', 'until', 'you', 'can', 'do', 'what', 'you', 'want', 'to', 'do.\\n', '―', 'Oprah', 'Winfrey\\n']\n",
      "['Do', 'what', 'you', 'have', 'to', 'do', 'until', 'you', 'can', 'do', 'what', 'you', 'want', 'to', 'do.', '―', 'Oprah', 'Winfrey.']\n",
      "Do what you have to do until you can do what you want to do. ― Oprah Winfrey.\n",
      "--------------------\n"
     ]
    },
    {
     "data": {
      "text/plain": [
       "'Do what you have to do until you can do what you want to do. ― Oprah Winfrey.'"
      ]
     },
     "execution_count": 26,
     "metadata": {},
     "output_type": "execute_result"
    }
   ],
   "source": [
    "filter_quote(text, verbose=True)"
   ]
  },
  {
   "cell_type": "code",
   "execution_count": 17,
   "metadata": {},
   "outputs": [
    {
     "data": {
      "text/plain": [
       "range(2, 0, -1)"
      ]
     },
     "execution_count": 17,
     "metadata": {},
     "output_type": "execute_result"
    }
   ],
   "source": [
    "range(1, 3)[::-1]"
   ]
  },
  {
   "cell_type": "code",
   "execution_count": 18,
   "metadata": {},
   "outputs": [],
   "source": [
    "x = [1, 2, 3, 4]"
   ]
  },
  {
   "cell_type": "code",
   "execution_count": 19,
   "metadata": {},
   "outputs": [
    {
     "data": {
      "text/plain": [
       "[1, 2, 3, 4]"
      ]
     },
     "execution_count": 19,
     "metadata": {},
     "output_type": "execute_result"
    }
   ],
   "source": [
    "x"
   ]
  },
  {
   "cell_type": "code",
   "execution_count": 20,
   "metadata": {},
   "outputs": [],
   "source": [
    "del x[1:3]"
   ]
  },
  {
   "cell_type": "code",
   "execution_count": 21,
   "metadata": {},
   "outputs": [
    {
     "data": {
      "text/plain": [
       "[1, 4]"
      ]
     },
     "execution_count": 21,
     "metadata": {},
     "output_type": "execute_result"
    }
   ],
   "source": [
    "x"
   ]
  },
  {
   "cell_type": "code",
   "execution_count": 27,
   "metadata": {},
   "outputs": [],
   "source": [
    "problem_text = \"He that believeth on me, as the scripture hath said, out of his belly shall flow rivers of living water. -John 7:38#Truth #Past #Present #Future #Motivation #Inspiration #Encouragement #QuoteOfTheDay #Quote #Wisdom #success #goodness #simple #openminds. #success #life #work …\""
   ]
  },
  {
   "cell_type": "code",
   "execution_count": 57,
   "metadata": {},
   "outputs": [
    {
     "name": "stdout",
     "output_type": "stream",
     "text": [
      "--------------------\n",
      "He that believeth on me, as the scripture hath said, out of his belly shall flow rivers of living water. -John 7:38#Truth #Past #Present #Future #Motivation #Inspiration #Encouragement #QuoteOfTheDay #Quote #Wisdom #success #goodness #simple #openminds. #success #life #work …\n",
      "['He', 'that', 'believeth', 'on', 'me,', 'as', 'the', 'scripture', 'hath', 'said,', 'out', 'of', 'his', 'belly', 'shall', 'flow', 'rivers', 'of', 'living', 'water.', '-John', '7:38', '#Truth', '#Past', '#Present', '#Future', '#Motivation', '#Inspiration', '#Encouragement', '#QuoteOfTheDay', '#Quote', '#Wisdom', '#success', '#goodness', '#simple', '#openminds.', '#success', '#life', '#work']\n",
      "['He', 'that', 'believeth', 'on', 'me,', 'as', 'the', 'scripture', 'hath', 'said,', 'out', 'of', 'his', 'belly', 'shall', 'flow', 'rivers', 'of', 'living', 'water.', '-John', '7:38', '#Truth', '#Past', '#Present', '#Future', '#Motivation', '#Inspiration', '#Encouragement', '#QuoteOfTheDay', '#Quote', '#Wisdom', '#success', '#goodness', '#simple', '#openminds.', '#success', '#life', '#work']\n",
      "['He', 'that', 'believeth', 'on', 'me,', 'as', 'the', 'scripture', 'hath', 'said,', 'out', 'of', 'his', 'belly', 'shall', 'flow', 'rivers', 'of', 'living', 'water.', '-John', '7:38']\n",
      "['He', 'that', 'believeth', 'on', 'me,', 'as', 'the', 'scripture', 'hath', 'said,', 'out', 'of', 'his', 'belly', 'shall', 'flow', 'rivers', 'of', 'living', 'water.', '-John', '7:38']\n",
      "He that believeth on me, as the scripture hath said, out of his belly shall flow rivers of living water. -John 7:38\n",
      "--------------------\n"
     ]
    },
    {
     "data": {
      "text/plain": [
       "'He that believeth on me, as the scripture hath said, out of his belly shall flow rivers of living water. -John 7:38'"
      ]
     },
     "execution_count": 57,
     "metadata": {},
     "output_type": "execute_result"
    }
   ],
   "source": [
    "filter_quote(problem_text, verbose=True)"
   ]
  },
  {
   "cell_type": "code",
   "execution_count": 3,
   "metadata": {},
   "outputs": [
    {
     "name": "stdout",
     "output_type": "stream",
     "text": [
      "This is a test tweet.\n",
      "A multiline test, on whether it correctly adds punctuation. There should be a period before this.\n",
      "Get rid of hashtags!\n",
      "Get rid of hashtags!\n",
      "Get rid of hashtags.\n",
      "But not all of them!\n",
      "But it should remove enough of them! - Wise Person\n"
     ]
    }
   ],
   "source": [
    "inputs = ['this is a test tweet',\n",
    "              'a multiline test\\n on whether it correctly adds punctuation\\nThere should be a period before this',\n",
    "              'Get rid of hashtags! #one #two #three',\n",
    "              'Get rid of hashtags! #one #two\\n #three',\n",
    "              'Get rid of hashtags #one #two #three…',\n",
    "              'But not #all of #them! #one #two #three…',\n",
    "              'But it #should remove #enough #of #them! - Wise Person #one #two #three. #four #five\\ #six']\n",
    "for i in inputs:\n",
    "    print(filter_quote(i))"
   ]
  },
  {
   "cell_type": "code",
   "execution_count": 36,
   "metadata": {},
   "outputs": [
    {
     "data": {
      "text/plain": [
       "False"
      ]
     },
     "execution_count": 36,
     "metadata": {},
     "output_type": "execute_result"
    }
   ],
   "source": [
    "'h'.isupper()"
   ]
  },
  {
   "cell_type": "code",
   "execution_count": 59,
   "metadata": {},
   "outputs": [
    {
     "data": {
      "text/plain": [
       "[-1, -2, -3, -4, -5]"
      ]
     },
     "execution_count": 59,
     "metadata": {},
     "output_type": "execute_result"
    }
   ],
   "source": [
    "list(range(-5, 0)[::-1])"
   ]
  },
  {
   "cell_type": "code",
   "execution_count": 4,
   "metadata": {},
   "outputs": [],
   "source": [
    "problem_text = '#motivation 👍#inspiration #👌wisdom🙏 #resilience 👊#philosophy🤲 #wayofthewarrior 👹#gratefulness #5amclub✔️ #blessed 💪#neverbackdown🥊 #neverquit 🥋 #believeinyourself #positivity #fearless #mindofachampion🏆 #mindfulness #willpower #calmness #flow https://t.co/XzqoNzAOjc'"
   ]
  },
  {
   "cell_type": "code",
   "execution_count": 5,
   "metadata": {},
   "outputs": [
    {
     "name": "stdout",
     "output_type": "stream",
     "text": [
      "--------------------\n",
      "#motivation 👍#inspiration #👌wisdom🙏 #resilience 👊#philosophy🤲 #wayofthewarrior 👹#gratefulness #5amclub✔️ #blessed 💪#neverbackdown🥊 #neverquit 🥋 #believeinyourself #positivity #fearless #mindofachampion🏆 #mindfulness #willpower #calmness #flow https://t.co/XzqoNzAOjc\n",
      "['#motivation', '👍', '#inspiration', '#👌wisdom🙏', '#resilience', '👊', '#philosophy\\U0001f932', '#wayofthewarrior', '👹', '#gratefulness', '#5amclub✔️', '#blessed', '💪', '#neverbackdown🥊', '#neverquit', '🥋', '#believeinyourself', '#positivity', '#fearless', '#mindofachampion🏆', '#mindfulness', '#willpower', '#calmness', '#flow', 'https://t.co/XzqoNzAOjc']\n",
      "['#motivation', '#inspiration', '#resilience', '#wayofthewarrior', '#gratefulness', '#blessed', '#neverquit', '#believeinyourself', '#positivity', '#fearless', '#mindfulness', '#willpower', '#calmness', '#flow']\n",
      "[]\n",
      "[]\n",
      "\n",
      "--------------------\n"
     ]
    },
    {
     "data": {
      "text/plain": [
       "''"
      ]
     },
     "execution_count": 5,
     "metadata": {},
     "output_type": "execute_result"
    }
   ],
   "source": [
    "filter_quote(problem_text, verbose=True)"
   ]
  },
  {
   "cell_type": "code",
   "execution_count": null,
   "metadata": {},
   "outputs": [],
   "source": []
  }
 ],
 "metadata": {
  "kernelspec": {
   "display_name": "MotivateMeBot",
   "language": "python",
   "name": "motivatemebot"
  },
  "language_info": {
   "codemirror_mode": {
    "name": "ipython",
    "version": 3
   },
   "file_extension": ".py",
   "mimetype": "text/x-python",
   "name": "python",
   "nbconvert_exporter": "python",
   "pygments_lexer": "ipython3",
   "version": "3.6.5"
  }
 },
 "nbformat": 4,
 "nbformat_minor": 2
}
