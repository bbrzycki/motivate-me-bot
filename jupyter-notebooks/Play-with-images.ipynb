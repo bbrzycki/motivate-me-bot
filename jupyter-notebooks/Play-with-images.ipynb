{
 "cells": [
  {
   "cell_type": "code",
   "execution_count": 1,
   "metadata": {},
   "outputs": [],
   "source": [
    "%matplotlib inline\n",
    "import matplotlib.pyplot as plt\n",
    "import numpy as np\n",
    "\n",
    "import sys\n",
    "import os\n",
    "sys.path.append('../')\n",
    "\n",
    "from PIL import Image\n",
    "from PIL import ImageFont\n",
    "from PIL import ImageDraw\n",
    "from PIL import ImageFilter\n",
    "\n",
    "import motivatemebot as mmb"
   ]
  },
  {
   "cell_type": "code",
   "execution_count": 2,
   "metadata": {},
   "outputs": [
    {
     "name": "stdout",
     "output_type": "stream",
     "text": [
      "3430 2560\n",
      "9421 222\n"
     ]
    }
   ],
   "source": [
    "img = Image.open('../images/chris.jpg')\n",
    "draw = ImageDraw.Draw(img)\n",
    "# font = ImageFont.truetype(<font-file>, <font-size>)\n",
    "font = ImageFont.truetype(\"Arial.ttf\", 200)\n",
    "\n",
    "text = \"Sample Text Sample Text Sample Text Sample Text Sample Text Sample Text Sample Text Sample Text \"\n",
    "text_width, text_height = font.getsize(text)\n",
    "# draw.text((x, y),\"Sample Text\",(r,g,b))\n",
    "draw.multiline_text((img.width / 2 - text_width / 2, img.height / 4 - text_height / 2),\n",
    "                    text,(255,255,255),\n",
    "                    font=font,\n",
    "                    spacing=0, \n",
    "                    align=\"left\")\n",
    "img.show()\n",
    "\n",
    "print(img.width, img.height)\n",
    "print(text_width, text_height)"
   ]
  },
  {
   "cell_type": "code",
   "execution_count": 16,
   "metadata": {},
   "outputs": [
    {
     "data": {
      "text/plain": [
       "<function image_utils.ImageText.save>"
      ]
     },
     "execution_count": 16,
     "metadata": {},
     "output_type": "execute_result"
    }
   ],
   "source": [
    "mmb.image_utils.ImageText.save"
   ]
  },
  {
   "cell_type": "code",
   "execution_count": 3,
   "metadata": {},
   "outputs": [],
   "source": [
    "color = (255, 255, 255)\n",
    "text = 'Python is a cool programming language. You should learn it!'\n",
    "font = 'Arial.ttf'\n",
    "img = mmb.image_utils.ImageText('../images/chris.jpg') \n",
    "\n",
    "#write_text_box will split the text in many lines, based on box_width\n",
    "#`place` can be 'left' (default), 'right', 'center' or 'justify'\n",
    "#write_text_box will return (box_width, box_calculed_height) so you can\n",
    "#know the size of the wrote text\n",
    "img_width, img_height = img.size\n",
    "\n",
    "box_width = 2000\n",
    "img.write_text_box((img_width / 2 - box_width / 2, img_height / 2 - 0), \n",
    "                   text, \n",
    "                   box_width=box_width, \n",
    "                   font_filename=font,\n",
    "                   font_size=200, \n",
    "                   color=color, \n",
    "                   place='center')\n",
    "\n",
    "#You don't need to specify text size: can specify max_width or max_height\n",
    "# and tell write_text to fill the text in this space, so it'll compute font\n",
    "# size automatically\n",
    "#write_text will return (width, height) of the wrote text\n",
    "# img.write_text((100, 350), 'test fill', font_filename=font,\n",
    "#                font_size='fill', max_height=150, color=color)\n",
    "\n",
    "img.show()\n"
   ]
  },
  {
   "cell_type": "code",
   "execution_count": 120,
   "metadata": {},
   "outputs": [],
   "source": [
    "box_x = 200\n",
    "box_y = 200\n",
    "box_width = 1000\n",
    "box_height = 1000\n",
    "\n",
    "color = (255, 255, 255)\n",
    "# text = 'Python is a cool programming language. You should learn it!'\n",
    "text = \"Sample Text Sample Text Sample Text Sample Text Sample Text Sample Text Sample Text Sample Text\"\n",
    "font_file = 'Arial.ttf'"
   ]
  },
  {
   "cell_type": "code",
   "execution_count": 128,
   "metadata": {},
   "outputs": [
    {
     "name": "stdout",
     "output_type": "stream",
     "text": [
      "----\n",
      "107\n",
      "606\n",
      "118\n",
      "995.9200000000002\n",
      "1.2400000000000002\n",
      "['Sample Text Sample', 'Text Sample Text', 'Sample Text Sample', 'Text Sample Text', 'Sample Text Sample', 'Text']\n"
     ]
    }
   ],
   "source": [
    "img = Image.open('../images/chris.jpg')\n",
    "draw = ImageDraw.Draw(img)\n",
    "\n",
    "font_size = 0\n",
    "spacing = 1\n",
    "\n",
    "text_block_height = 0\n",
    "max_char_height = 0\n",
    "\n",
    "while True:\n",
    "    # Increase font size and check if it fits\n",
    "    proposed_font_size = font_size + 1\n",
    "    proposed_max_char_height = 0\n",
    "    fits_horizontally = True\n",
    "    fits_vertically = True\n",
    "\n",
    "    font = ImageFont.truetype(font_file, proposed_font_size)\n",
    "\n",
    "    words = text.split()\n",
    "    all_lines_temp = []\n",
    "    current_line = []\n",
    "    for word in words:\n",
    "        proposed_line = current_line + [word]\n",
    "        proposed_text_width, proposed_text_height = font.getsize(' '.join(proposed_line))                # Check line width fits within box width\n",
    "        if proposed_text_height > proposed_max_char_height:\n",
    "            proposed_max_char_height = proposed_text_height\n",
    "\n",
    "        if proposed_text_width <= box_width:\n",
    "            current_line = proposed_line\n",
    "        else:\n",
    "            word_width, word_height = font.getsize(word)\n",
    "            if word_width > box_width:\n",
    "                fits_horizontally = False\n",
    "                break\n",
    "            else:\n",
    "                all_lines_temp.append(' '.join(current_line))\n",
    "                current_line = [word]\n",
    "    # Add last valid line\n",
    "    all_lines_temp.append(' '.join(current_line))\n",
    "\n",
    "    # Check text fits within box height\n",
    "#             proposed_max_char_height = 0\n",
    "#             for i, line in enumerate(all_lines_temp):\n",
    "#                 line_width, line_height = font.getsize(line)\n",
    "#                 if line_height > proposed_max_char_height:\n",
    "#                     proposed_max_char_height = line_height\n",
    "    proposed_text_block_height = proposed_max_char_height * ((len(all_lines_temp) - 1) * spacing * 1.2 + 1)\n",
    "    if proposed_text_block_height > box_height:\n",
    "        fits_vertically = False\n",
    "\n",
    "    if fits_horizontally and fits_vertically:\n",
    "        font_size = proposed_font_size\n",
    "        all_lines = all_lines_temp\n",
    "        max_char_height = proposed_max_char_height\n",
    "        text_block_height = proposed_text_block_height\n",
    "    else:\n",
    "        break\n",
    "\n",
    "# We know the text fits with spacing = 1\n",
    "proposed_spacing = spacing\n",
    "while True:\n",
    "    proposed_spacing = spacing + 0.01\n",
    "    if proposed_spacing > 2:\n",
    "        break\n",
    "    proposed_text_block_height = max_char_height * ((len(all_lines) - 1) * proposed_spacing * 1.2 + 1)\n",
    "    if proposed_text_block_height <= box_height:\n",
    "        spacing = proposed_spacing\n",
    "        text_block_height = proposed_text_block_height\n",
    "    else:\n",
    "        break\n",
    "            \n",
    "        \n",
    "print('----')  \n",
    "print(font_size)\n",
    "print(proposed_text_width)\n",
    "print(max_char_height)\n",
    "print(text_block_height)\n",
    "print(spacing)\n",
    "print(all_lines)"
   ]
  },
  {
   "cell_type": "code",
   "execution_count": 129,
   "metadata": {},
   "outputs": [
    {
     "name": "stdout",
     "output_type": "stream",
     "text": [
      "3430 2560\n"
     ]
    }
   ],
   "source": [
    "img = Image.open('../images/chris.jpg')\n",
    "draw = ImageDraw.Draw(img)\n",
    "# font = ImageFont.truetype(<font-file>, <font-size>)\n",
    "font = ImageFont.truetype(font_file, font_size)\n",
    "\n",
    "# text = \"Sample Text Sample Text Sample Text Sample Text Sample Text Sample Text Sample Text Sample Text \"\n",
    "for i, line in enumerate(all_lines):\n",
    "    line_width, line_height = font.getsize(line)\n",
    "    draw.text((box_x + box_width / 2 - line_width / 2, \n",
    "               box_y + box_height / 2 - text_block_height / 2 + i * spacing * 1.2 * max_char_height), \n",
    "              line,\n",
    "              (255, 255, 255),\n",
    "              font=font)\n",
    "    \n",
    "draw.line((box_x, box_y, box_x, box_y + box_height), width=10)    \n",
    "draw.line((box_x, box_y, box_x + box_width, box_y), width=10) \n",
    "draw.line((box_x + box_width, box_y + box_height, box_x, box_y + box_height), width=10) \n",
    "draw.line((box_x + box_width, box_y + box_height, box_x + box_width, box_y), width=10) \n",
    "    \n",
    "    \n",
    "    \n",
    "img.show()\n",
    "\n",
    "print(img.width, img.height)"
   ]
  },
  {
   "cell_type": "code",
   "execution_count": 177,
   "metadata": {},
   "outputs": [
    {
     "name": "stdout",
     "output_type": "stream",
     "text": [
      "3430 2560\n"
     ]
    }
   ],
   "source": [
    "img = Image.open('../images/chris.jpg')\n",
    "\n",
    "img_width, img_height = img.size\n",
    "\n",
    "boundary = img_height / 15\n",
    "box_x = boundary\n",
    "box_y = boundary\n",
    "box_width = img_width - 2 * box_x\n",
    "box_height = img_height / 2 - 2 * box_y\n",
    "\n",
    "color = (255, 255, 255)\n",
    "# text = 'Python is a cool programming language. You should learn it!'\n",
    "text = 'Call me old fashioned, but I believe life was better when we all agreed to eat our Taco Bell alone, in our car, in the empty corner of the grocery store parking lot, not making eye contact with anyone because we are Garbage People and that is our code.'\n",
    "# text = \"Sample Text Sample Text Sample Text Sample Text Sample Text Sample Text Sample Text Sample Text\"\n",
    "# font_file = 'Arial.ttf'\n",
    "# font_file = 'Zapfino.ttf'\n",
    "font_file = 'Apple Chancery.ttf'\n",
    "# font_file = 'Comic Sans MS.ttf'\n",
    "# font_file = 'AppleGothic.ttf'\n",
    "\n",
    "equal_spacing = True\n",
    "maximize = not equal_spacing\n",
    "\n",
    "#####\n",
    "\n",
    "font_size = 0\n",
    "spacing = 1\n",
    "\n",
    "text_block_height = 0\n",
    "max_char_height = 0\n",
    "\n",
    "while True:\n",
    "    # Increase font size and check if it fits\n",
    "    proposed_font_size = font_size + 1\n",
    "    proposed_max_char_height = 0\n",
    "    fits_horizontally = True\n",
    "    fits_vertically = True\n",
    "\n",
    "    font = ImageFont.truetype(font_file, proposed_font_size)\n",
    "\n",
    "    words = text.split()\n",
    "    all_lines_temp = []\n",
    "    current_line = []\n",
    "    for word in words:\n",
    "        proposed_line = current_line + [word]\n",
    "        proposed_text_width, proposed_text_height = font.getsize(' '.join(proposed_line))                # Check line width fits within box width\n",
    "        if proposed_text_height > proposed_max_char_height:\n",
    "            proposed_max_char_height = proposed_text_height\n",
    "\n",
    "        if proposed_text_width <= box_width:\n",
    "            current_line = proposed_line\n",
    "        else:\n",
    "            word_width, word_height = font.getsize(word)\n",
    "            if word_width > box_width:\n",
    "                fits_horizontally = False\n",
    "                break\n",
    "            else:\n",
    "                all_lines_temp.append(' '.join(current_line))\n",
    "                current_line = [word]\n",
    "    # Add last valid line\n",
    "    all_lines_temp.append(' '.join(current_line))\n",
    "\n",
    "    # Check text fits within box height\n",
    "#             proposed_max_char_height = 0\n",
    "#             for i, line in enumerate(all_lines_temp):\n",
    "#                 line_width, line_height = font.getsize(line)\n",
    "#                 if line_height > proposed_max_char_height:\n",
    "#                     proposed_max_char_height = line_height\n",
    "    if equal_spacing:\n",
    "        proposed_text_block_height = proposed_max_char_height * (len(all_lines_temp) + 1) * spacing * 1.2\n",
    "    else:    \n",
    "        proposed_text_block_height = proposed_max_char_height * ((len(all_lines_temp) - 1) * spacing * 1.2 + 1)\n",
    "    if proposed_text_block_height > box_height:\n",
    "        fits_vertically = False\n",
    "\n",
    "    if fits_horizontally and fits_vertically:\n",
    "        font_size = proposed_font_size\n",
    "        all_lines = all_lines_temp\n",
    "        max_char_height = proposed_max_char_height\n",
    "        text_block_height = proposed_text_block_height\n",
    "    else:\n",
    "        break\n",
    "\n",
    "# We know the text fits with spacing = 1\n",
    "# Maximized separation from top to bottom, with a limit of double spacing\n",
    "\n",
    "proposed_spacing = spacing\n",
    "while True:\n",
    "    proposed_spacing = spacing + 0.01\n",
    "    if proposed_spacing > 2:\n",
    "        break\n",
    "    if equal_spacing:\n",
    "        proposed_text_block_height = max_char_height * (len(all_lines) + 1) * proposed_spacing * 1.2        \n",
    "    else:\n",
    "        proposed_text_block_height = max_char_height * ((len(all_lines) - 1) * proposed_spacing * 1.2 + 1)\n",
    "    \n",
    "    if proposed_text_block_height <= box_height:\n",
    "        spacing = proposed_spacing\n",
    "        text_block_height = proposed_text_block_height\n",
    "    else:\n",
    "        break\n",
    "            \n",
    "        \n",
    "# print('----')  \n",
    "# print(font_size)\n",
    "# print(proposed_text_width)\n",
    "# print(max_char_height)\n",
    "# print(text_block_height)\n",
    "# print(spacing)\n",
    "# print(all_lines)\n",
    "\n",
    "draw = ImageDraw.Draw(img)\n",
    "# font = ImageFont.truetype(<font-file>, <font-size>)\n",
    "font = ImageFont.truetype(font_file, font_size)\n",
    "\n",
    "# text = \"Sample Text Sample Text Sample Text Sample Text Sample Text Sample Text Sample Text Sample Text \"\n",
    "for i, line in enumerate(all_lines):\n",
    "    line_width, line_height = font.getsize(line)\n",
    "    x_coord = box_x + box_width / 2 - line_width / 2\n",
    "    if equal_spacing:\n",
    "        y_coord = box_y + box_height / 2 - text_block_height / 2 + max_char_height * ((i + 1) * spacing * 1.2 - 0.5)\n",
    "    else:\n",
    "        y_coord = box_y + box_height / 2 - text_block_height / 2 + max_char_height * i * spacing * 1.2\n",
    "    draw.text((x_coord, y_coord),\n",
    "               line,\n",
    "               (255, 255, 255),\n",
    "               font=font)\n",
    "    \n",
    "line_width = int(boundary / 15)\n",
    "if line_width % 2 == 0:\n",
    "    line_width += 1\n",
    "draw.line((box_x, box_y - line_width / 2 + 1, box_x, box_y + box_height + line_width / 2 - 1), width=10)    \n",
    "draw.line((box_x, box_y, box_x + box_width, box_y), width=10) \n",
    "draw.line((box_x + box_width, box_y + box_height, box_x, box_y + box_height), width=10) \n",
    "draw.line((box_x + box_width, box_y + box_height + line_width / 2 - 1, box_x + box_width, box_y - line_width / 2 + 1), width=10) \n",
    "    \n",
    "    \n",
    "sig_size = int(boundary / 2)\n",
    "cred_size = int(boundary / 4)\n",
    "# MotivateMeBot sig\n",
    "sig = '@MotivateMeBot'\n",
    "sig_font_file = 'AppleGothic.ttf'\n",
    "sig_font = ImageFont.truetype(sig_font_file, sig_size)\n",
    "sig_width, sig_height = sig_font.getsize(sig)\n",
    "draw.text((img_width - sig_width - sig_size, img_height - sig_height - sig_size),\n",
    "            sig,\n",
    "               (255, 255, 255),\n",
    "               font=sig_font)\n",
    "\n",
    "\n",
    "# Image Credit\n",
    "image_cred = 'Image Credit: %s' % '@ChrissapherMorris'\n",
    "image_cred_font_file = 'AppleGothic.ttf'\n",
    "image_cred_font = ImageFont.truetype(image_cred_font_file, cred_size)\n",
    "image_cred_width, image_cred_height = image_cred_font.getsize(sig)\n",
    "draw.text((sig_size, img_height - image_cred_height - sig_size),\n",
    "            image_cred,\n",
    "               (255, 255, 255),\n",
    "               font=image_cred_font)\n",
    "\n",
    "# Quote Credit\n",
    "quote_cred = 'Quote Credit: %s' % ('@Harlack')\n",
    "quote_cred_font_file = 'AppleGothic.ttf'\n",
    "quote_cred_font = ImageFont.truetype(quote_cred_font_file, cred_size)\n",
    "quote_cred_width, quote_cred_height = quote_cred_font.getsize(sig)\n",
    "draw.text((sig_size, img_height - image_cred_height * 1.2 - quote_cred_height - sig_size),\n",
    "            quote_cred,\n",
    "               (255, 255, 255),\n",
    "               font=quote_cred_font)\n",
    "\n",
    "\n",
    "img.show()\n",
    "\n",
    "print(img.width, img.height)"
   ]
  },
  {
   "cell_type": "code",
   "execution_count": 166,
   "metadata": {},
   "outputs": [
    {
     "data": {
      "text/plain": [
       "11.377777777777776"
      ]
     },
     "execution_count": 166,
     "metadata": {},
     "output_type": "execute_result"
    }
   ],
   "source": [
    "boundary / 15"
   ]
  },
  {
   "cell_type": "code",
   "execution_count": 8,
   "metadata": {},
   "outputs": [
    {
     "name": "stdout",
     "output_type": "stream",
     "text": [
      "4029300\n"
     ]
    },
    {
     "data": {
      "image/png": "[encoded data removed]",
      "text/plain": [
       "<matplotlib.figure.Figure at 0x11b381908>"
      ]
     },
     "metadata": {},
     "output_type": "display_data"
    },
    {
     "name": "stdout",
     "output_type": "stream",
     "text": [
      "1087747 1606102\n",
      "1.476540041020568\n",
      "choose white\n",
      "4029300\n"
     ]
    },
    {
     "data": {
      "image/png": "[encoded data removed]",
      "text/plain": [
       "<matplotlib.figure.Figure at 0x11b381748>"
      ]
     },
     "metadata": {},
     "output_type": "display_data"
    },
    {
     "name": "stdout",
     "output_type": "stream",
     "text": [
      "333692 1206691\n",
      "3.6161819881807173\n",
      "choose white\n"
     ]
    }
   ],
   "source": [
    "# img = mmb.get_image('../images/flowers.jpg')\n",
    "img = mmb.get_image('../images/elizabeth_lab.jpg')\n",
    "# img = mmb.get_image('../images/chris.jpg')\n",
    "# img = mmb.get_image('../images/lanterns.jpg')\n",
    "# img_cv = cv2.imread('../images/lanterns.jpg')\n",
    "\n",
    "img_width, img_height = img.size\n",
    "\n",
    "boundary = int(img_height / 15)\n",
    "box_x = boundary\n",
    "box_y = boundary\n",
    "# box_y = int(img_height / 4)\n",
    "box_width = int(img_width - 2 * box_x)\n",
    "box_height = int(img_height / 2 - 2 * box_y)\n",
    "background_box = (box_x, box_y, box_x + box_width, box_y + box_height)\n",
    "\n",
    "cropped_img = img.crop(background_box)\n",
    "\n",
    "luminances = []\n",
    "print(len(cropped_img.getdata()))\n",
    "for (r,g,b) in cropped_img.getdata():\n",
    "    perceived_luminance = (0.299 * r + 0.587 * g + 0.114 * b)\n",
    "    luminances.append(perceived_luminance)\n",
    "\n",
    "plt.title('Top')\n",
    "plt.hist(luminances)\n",
    "plt.show()\n",
    "\n",
    "light = 0\n",
    "dark = 0\n",
    "for luminance in luminances:\n",
    "    if luminance < 64:\n",
    "        dark += 1\n",
    "    if luminance > 255 - 64:\n",
    "        light += 1\n",
    "        \n",
    "print(light, dark)\n",
    "ratio = light / dark\n",
    "if ratio >= 1 or dark == 0:\n",
    "    print(ratio)\n",
    "    print('choose black')\n",
    "else:\n",
    "    print(1 / ratio)\n",
    "    print('choose white')\n",
    "\n",
    "#####\n",
    "\n",
    "boundary = int(img_height / 15)\n",
    "\n",
    "box_width = int(img_width - 2 * boundary)\n",
    "box_height = int(img_height / 2 - 2 * boundary)\n",
    "\n",
    "box_x = boundary\n",
    "# box_y = boundary\n",
    "box_y = int(img_height / 4 + boundary)\n",
    "    \n",
    "background_box = (box_x, box_y, box_x + box_width, box_y + box_height)\n",
    "\n",
    "cropped_img = img.crop(background_box)\n",
    "\n",
    "luminances = []\n",
    "print(len(cropped_img.getdata()))\n",
    "for (r,g,b) in cropped_img.getdata():\n",
    "    perceived_luminance = (0.299 * r + 0.587 * g + 0.114 * b)\n",
    "    luminances.append(perceived_luminance)\n",
    "\n",
    "plt.title('Middle')\n",
    "plt.hist(luminances)\n",
    "plt.show()\n",
    "\n",
    "light = 0\n",
    "dark = 0\n",
    "for luminance in luminances:\n",
    "    if luminance < 64:\n",
    "        dark += 1\n",
    "    if luminance > 255 - 64:\n",
    "        light += 1\n",
    "        \n",
    "print(light, dark)\n",
    "ratio = light / dark\n",
    "if ratio >= 1 or dark == 0:\n",
    "    print(ratio)\n",
    "    print('choose black')\n",
    "else:\n",
    "    print(1 / ratio)\n",
    "    print('choose white')"
   ]
  },
  {
   "cell_type": "code",
   "execution_count": 46,
   "metadata": {},
   "outputs": [
    {
     "name": "stdout",
     "output_type": "stream",
     "text": [
      "2592 3888\n",
      "1604 215\n"
     ]
    }
   ],
   "source": [
    "from unidecode import unidecode\n",
    "\n",
    "img = Image.open('../scripts/images/john-rodenn-castillo-eluzJSfkNCk-unsplash.jpg')\n",
    "draw = ImageDraw.Draw(img)\n",
    "# font = ImageFont.truetype(<font-file>, <font-size>)\n",
    "font = ImageFont.truetype(\"../fonts/AppleGothic.ttf\", 200)\n",
    "\n",
    "text = unidecode(\"@MotivateMeBot\")\n",
    "text_width, text_height = font.getsize(text)\n",
    "# draw.text((x, y),\"Sample Text\",(r,g,b))\n",
    "draw.multiline_text((img.width / 2 - text_width / 2, 975),\n",
    "                    text,(0,0,0),\n",
    "                    font=font,\n",
    "                    spacing=0, \n",
    "                    align=\"left\")\n",
    "img.save('../images/profile_pic.jpg', quality=100)\n",
    "img.show()\n",
    "\n",
    "print(img.width, img.height)\n",
    "print(text_width, text_height)"
   ]
  },
  {
   "cell_type": "code",
   "execution_count": 39,
   "metadata": {},
   "outputs": [
    {
     "data": {
      "text/plain": [
       "494.0"
      ]
     },
     "execution_count": 39,
     "metadata": {},
     "output_type": "execute_result"
    }
   ],
   "source": [
    "img.width / 2 - text_width / 2"
   ]
  },
  {
   "cell_type": "code",
   "execution_count": null,
   "metadata": {},
   "outputs": [],
   "source": []
  }
 ],
 "metadata": {
  "kernelspec": {
   "display_name": "Python 3",
   "language": "python",
   "name": "python3"
  },
  "language_info": {
   "codemirror_mode": {
    "name": "ipython",
    "version": 3
   },
   "file_extension": ".py",
   "mimetype": "text/x-python",
   "name": "python",
   "nbconvert_exporter": "python",
   "pygments_lexer": "ipython3",
   "version": "3.6.5"
  }
 },
 "nbformat": 4,
 "nbformat_minor": 2
}
